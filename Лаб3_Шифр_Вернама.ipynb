{
 "cells": [
  {
   "cell_type": "markdown",
   "id": "0eff59ec",
   "metadata": {},
   "source": [
    "**Задание 1.** Реализовать операцию шифрования C = M ⊕ K, где M — шифруемый текст, K — ключ, ⊕ — операция сложения по модулю 2 поочередно каждого бита M и K:\n",
    "* взять две произвольные строки символов одинаковой длины M и K;\n",
    "* преобразовать M и K в два вектора чисел и применить к ним побитовое исключающее или;\n",
    "* преобразовать получившийся вектор обратно в строку;\n",
    "* реализовать обратную операцию расшифровки с известным ключом M =  C ⊕ K.\n"
   ]
  },
  {
   "cell_type": "code",
   "execution_count": 8,
   "id": "d5391141",
   "metadata": {},
   "outputs": [],
   "source": [
    "def VernamCipherEncryption (text, key): # функция шифрования\n",
    "      m = []\n",
    "      k = []\n",
    "      result  = \"\";\n",
    "      for i, ch in enumerate(text):\n",
    "        m.append(ord(ch)) # возвращаем число символа Unicode для шифруемого текста\n",
    "        k.append(ord(key[i])) # возвращаем число символа Unicode для ключа\n",
    "      print(\"Исходный текст:\", m)\n",
    "      print(\"Ключ:\", k)\n",
    "      for i, num in enumerate(m):\n",
    "          result = result + chr(num ^ k[i]) # преобразуем число - результат исключающего ИЛИ \n",
    "                                            # в символ Юникода, обратная операця ord()\n",
    "      return result\n",
    "\n",
    "def VernamCipherDecription (text, key): # функция расшифровки\n",
    "      result  = \"\";\n",
    "      for i, ch in enumerate(text):\n",
    "            result += chr(ord(ch) ^ ord(key[i])) # аналогично проходит расшифровка с ключом\n",
    "      return result"
   ]
  },
  {
   "cell_type": "code",
   "execution_count": 9,
   "id": "bb58f3c2",
   "metadata": {},
   "outputs": [
    {
     "name": "stdout",
     "output_type": "stream",
     "text": [
      "Длина первой строки: 12 Длина второй строки: 12\n"
     ]
    }
   ],
   "source": [
    "input_text = '1QWLafTT9UXC'\n",
    "encrpt_key = '2ZloKv0JWUpA'\n",
    "print(\"Длина первой строки:\",len(input_text),\"Длина второй строки:\", len(encrpt_key))"
   ]
  },
  {
   "cell_type": "code",
   "execution_count": 10,
   "id": "a61b8de8",
   "metadata": {},
   "outputs": [
    {
     "name": "stdout",
     "output_type": "stream",
     "text": [
      "Исходный текст: [49, 81, 87, 76, 97, 102, 84, 84, 57, 85, 88, 67]\n",
      "Ключ: [50, 90, 108, 111, 75, 118, 48, 74, 87, 85, 112, 65]\n",
      "Зашифрованная строка:\u0003\u000b",
      ";#*\u0010d\u001e",
      "n\u0000(\u0002\n",
      "Расшифрованная строка:1QWLafTT9UXC\n"
     ]
    }
   ],
   "source": [
    "# Задание 1\n",
    "encryption = VernamCipherEncryption(input_text, encrpt_key)\n",
    "print (\"Зашифрованная строка:\" + encryption)\n",
    "decryption = VernamCipherDecription(encryption, encrpt_key)\n",
    "print (\"Расшифрованная строка:\" + decryption)"
   ]
  },
  {
   "cell_type": "markdown",
   "id": "6410eecb",
   "metadata": {},
   "source": [
    "**Задание 2.** Реализовать операцию генерации случайного ключа K:\n",
    "* изучить представление строк в Matlab или в вашей среде -- сколько байт занимает один символ;\n",
    "* сгенерировать случайное целое число по равномерному закону в диапазоне от 0 до максимального кода символа в используемой кодировке (если символ занимает 2 байта, то генерация производится в диапазоне от 0 до 65535);\n",
    "* преобразовать его в символ;\n",
    "* сгенерировать таким образом ключ K, длиной совпадающий количеством символов с шифруемым текстом.\n"
   ]
  },
  {
   "cell_type": "code",
   "execution_count": 2,
   "id": "9c99c6b6",
   "metadata": {},
   "outputs": [
    {
     "name": "stdout",
     "output_type": "stream",
     "text": [
      "⽑\n",
      "Сгенерированный ключ: [43460, 22588, 59817, 14221, 38975, 29168, 44715, 10517, 30829, 61793, 10084, 22770]\n"
     ]
    }
   ],
   "source": [
    "# Задание 2\n",
    "import random\n",
    "\n",
    "k = random.randint(0, 65535) # генерация целого числа по равномерному распределению из указанного диапазона\n",
    "k = chr(k) # преобразуем в соответствующий символ Юникода\n",
    "print(k)\n",
    "\n",
    "input_text = '1QWLafTT9UXC'\n",
    "n = range(len(input_text))\n",
    "encrpt_key = [random.randint(0, 65535) for i in n] # генерация целых чисел по равномерному распределению из указанного диапазона\n",
    "print(\"Сгенерированный ключ:\", encrpt_key)"
   ]
  },
  {
   "cell_type": "markdown",
   "id": "ba07fe36",
   "metadata": {},
   "source": [
    "**Задание 3.** Написать процедуру перебора ключей заданной длины -- для каждого элемента вектора справа налево перебирать поочередно все возможные варианты кода от 0 до максимального числа. Заполнить таблицу до первой строчки, когда перебор перестает работать, или начинает занимать более 10 минут."
   ]
  },
  {
   "cell_type": "code",
   "execution_count": 3,
   "id": "eb5760fd",
   "metadata": {},
   "outputs": [
    {
     "name": "stdout",
     "output_type": "stream",
     "text": [
      "Общее время в секундах: 11.219844102859497\n",
      "52428000\n"
     ]
    }
   ],
   "source": [
    "# Задание 3\n",
    "import time\n",
    "\n",
    "#key = [56, 178, 209, 7, 20, 5, 100, 83, 30, 79]\n",
    "num = 0\n",
    "start = time.time() # время начала отсчета\n",
    "for i in range(800): # перебираем элементы вектора длинной 800\n",
    "  for n in range(65535): # перебираем значения ключа\n",
    "    num += 1\n",
    "end = time.time() # время конца отсчета\n",
    "print(\"Общее время в секундах:\", end-start)\n",
    "print(num)\n"
   ]
  },
  {
   "cell_type": "markdown",
   "id": "1e6e0539",
   "metadata": {},
   "source": [
    "| Длина ключа | Число вариантов ключа | Время, отнятое на перебор, сек |\n",
    "|:-----------:|:---------------------:|:------------------------------:|\n",
    "|      1      |         65535         |            0.011785            |\n",
    "|      2      |         131070        |            0.0263689           |\n",
    "|      3      |         196605        |            0.0383136           |\n",
    "|      4      |         262140        |            0.0859277           |\n",
    "|      5      |         327675        |            0.0699606           |\n",
    "|      6      |         393210        |            0.0520911           |\n",
    "|      7      |         458745        |            0.0699656           |\n",
    "|      8      |         524280        |            0.1589756           |\n",
    "|      9      |         589815        |            0.1275763           |\n",
    "|      10     |         655350        |            0.1698976           |\n",
    "|     ...     |          ...          |               ...              |\n",
    "|     800     |        52428000       |           10.1655464           |"
   ]
  },
  {
   "cell_type": "markdown",
   "id": "efb1f07b",
   "metadata": {},
   "source": [
    "**Задание 4.** Переделать код на работу с файлами:\n",
    "* M читать из файла;\n",
    "* сгенерированный K писать в файл;\n",
    "* полученный C и расшифрованный M также писать в файл.\n"
   ]
  },
  {
   "cell_type": "code",
   "execution_count": 48,
   "id": "8bacd567",
   "metadata": {},
   "outputs": [],
   "source": [
    "def ReadingFile (path): # функция чтения файла\n",
    "  #txt = []\n",
    "  txt = ''\n",
    "  f = None\n",
    "  try:\n",
    "      f = open(path, 'r') #Открыть файл для чтения\n",
    "      for ln in f: #Обход строк файла и добавление в список\n",
    "          #txt.extend(ln) # Добавить к списку\n",
    "          txt += ln\n",
    "  except Exception as e:\n",
    "      print(\"Ошибка при работе с файлом:\", e)\n",
    "  finally:\n",
    "      if f:  # Если файл не открылся, значит 'f' == None и закрывать его не нужно\n",
    "          f.close()\n",
    "  return txt"
   ]
  },
  {
   "cell_type": "code",
   "execution_count": 67,
   "id": "eb81bf6d",
   "metadata": {},
   "outputs": [],
   "source": [
    "def WritingFile (path, w_txt): # функция записи в файл\n",
    "  f = None\n",
    "  try:\n",
    "      f = open(path, 'w', encoding=\"utf-8\") #Открыть файл для записи\n",
    "      #Обход списка и запись данных в файл\n",
    "      if type(w_txt[0]) is int: # если пытаемся записать числовые данные\n",
    "        for num in w_txt:\n",
    "          # добавить символ '\\n', чтобы можно было распознать числа\n",
    "          s = str(num) + '\\n'\n",
    "          f.write(s) # метод write() - запись в файл\n",
    "      else:\n",
    "        f.write(w_txt)\n",
    "  except Exception as e:\n",
    "      print(\"Ошибка при работе с файлом:\", e)\n",
    "  finally:\n",
    "      if f:  # Если файл не открылся, значит 'fh' == None и закрывать его не нужно\n",
    "          f.close()"
   ]
  },
  {
   "cell_type": "code",
   "execution_count": 68,
   "id": "29956b02",
   "metadata": {},
   "outputs": [
    {
     "name": "stdout",
     "output_type": "stream",
     "text": [
      "Прочитанный файл: L_kdsi86# 12kwoab5!\n"
     ]
    }
   ],
   "source": [
    "input_txt = ReadingFile('input_text.txt')\n",
    "print('Прочитанный файл:', input_txt)"
   ]
  },
  {
   "cell_type": "code",
   "execution_count": 62,
   "id": "d80105ae",
   "metadata": {},
   "outputs": [
    {
     "name": "stdout",
     "output_type": "stream",
     "text": [
      "Сгенерированный ключ: [27941, 14928, 52364, 30160, 12134, 35811, 33727, 9966, 37673, 42468, 40565, 57697, 13821, 19435, 24267, 41054, 40237, 53808, 52520]\n"
     ]
    }
   ],
   "source": [
    "n = range(len(input_txt))\n",
    "encrypt_key = [random.randint(0, 65535) for i in n] # генерация ключа\n",
    "print(\"Сгенерированный ключ:\", encrypt_key)\n",
    "WritingFile('key.txt', encrypt_key)"
   ]
  },
  {
   "cell_type": "code",
   "execution_count": 21,
   "id": "9d99bc93",
   "metadata": {},
   "outputs": [],
   "source": [
    "def VernamCipherFunction (text, key): # функция шифровки/расшифровки\n",
    "      result  = \"\";\n",
    "      start = time.time() # время начала отсчета\n",
    "      for i, ch in enumerate(text):\n",
    "          result = result + chr(ord(ch) ^ key[i]) # преобразуем число - результат исключающего ИЛИ \n",
    "                                                  # в символ Юникода, обратная операция ord()\n",
    "      end = time.time() # время конца отсчета\n",
    "      print(\"Общее время в секундах:\", end-start)\n",
    "      return result"
   ]
  },
  {
   "cell_type": "code",
   "execution_count": 70,
   "id": "e8ffc717",
   "metadata": {},
   "outputs": [
    {
     "name": "stdout",
     "output_type": "stream",
     "text": [
      "Зашифрованный текст:浩㨏쳧疴⼕變莇⛘錊ꗄ鹄㖖䮜庤ꀿ鵏툅촉\n",
      "Расшифрованный текст:L_kdsi86# 12kwoab5!\n"
     ]
    }
   ],
   "source": [
    "encryption_txt = VernamCipherFunction(input_txt, encrypt_key);\n",
    "print (\"Зашифрованный текст:\" + encryption_txt);\n",
    "decryption_txt = VernamCipherFunction(encryption_txt, encrypt_key);\n",
    "print (\"Расшифрованный текст:\" + decryption_txt);"
   ]
  },
  {
   "cell_type": "code",
   "execution_count": 71,
   "id": "c1f633bd",
   "metadata": {},
   "outputs": [],
   "source": [
    "# Записываем полученный зашифрованный и расшифрованный текст в соответствующие файлы\n",
    "WritingFile('encrypted_text.txt', encryption_txt)\n",
    "WritingFile('decrypted_text.txt', decryption_txt)"
   ]
  },
  {
   "cell_type": "markdown",
   "id": "9a9e2d93",
   "metadata": {},
   "source": [
    "**Изучить уязвимости кода Вернама.**\n",
    "\n",
    "**Задание 5.** Перехват зашифрованного текста вместе с исходным. \n",
    "* рассчитать ключ, зная M и C. \n",
    "* заполнить таблицу для пяти разных вариантов текстов разных длин (представить в отчете также начальные фрагменты исходного текста, ключа и шифротекста) порядка 50, 100, 1000, 5000 и 10000 символов\n"
   ]
  },
  {
   "cell_type": "code",
   "execution_count": 5,
   "id": "463a0e12",
   "metadata": {},
   "outputs": [],
   "source": [
    "#Задание 5\n",
    "\n",
    "import secrets\n",
    "import string\n",
    "\n",
    "def generate_random_string(length): # функция генерации случайной строки\n",
    "    letters_and_digits = string.ascii_letters + string.digits + string.punctuation # исходная строка из строчных, прописных букв латинского алфавита, цифр и доп. знаков\n",
    "    rand_string = ''.join(secrets.choice(\n",
    "        letters_and_digits) for i in range(length)) # функция secrets.choice() возвращает случайно выбранный элемент из последовательности\n",
    "                                                    # таким образом получаем строку заданной длины\n",
    "    return rand_string"
   ]
  },
  {
   "cell_type": "code",
   "execution_count": 18,
   "id": "00b0b40f",
   "metadata": {},
   "outputs": [
    {
     "name": "stdout",
     "output_type": "stream",
     "text": [
      "Исходный текст: LNT.{K?IRaUc}yLpjZ!}NZq;\"AkC`f-ek!0Wk`Bw/vU7:IRX6{*E2=X длинной 55\n",
      "Сгенерированный ключ: [31223, 3258, 36208, 49756, 24275, 6840, 27953, 49691, 5608, 25109, 6542, 9012, 15795, 6218, 1655, 2135, 11180, 23212, 41289, 10979, 34593, 10218, 47438, 11676, 7553, 31581, 43733, 13801, 3424, 34460, 11428, 19696, 10120, 22384, 39657, 33152, 33148, 19715, 37436, 43912, 20637, 6012, 38280, 14998, 19469, 13147, 3740, 36849, 19846, 36705, 10166, 27955, 37815, 21551, 43661]\n",
      "Общее время в секундах: 0.0\n",
      "Зашифрованный текст:离೴贤쉲庨᫳洎쉒ᖺ扴᧛⍗㷎ᠳػࠧ⯆嫶ꅨ⪞蝯➰뤿⶧ᶣ笜ꪾ㖪ഀ蛺ⲉ䲕⟣坑髙臗脗䵣鉾꯿傲ᜊ闝㪡䰷㌒໎辩䶰輚➜浶鎅吒꫕\n",
      "Общее время в секундах: 0.0\n",
      "Расшифрованный текст:LNT.{K?IRaUc}yLpjZ!}NZq;\"AkC`f-ek!0Wk`Bw/vU7:IRX6{*E2=X\n"
     ]
    }
   ],
   "source": [
    "rnd_str = generate_random_string(55)\n",
    "print(\"Исходный текст:\", rnd_str, \"длинной\", len(rnd_str))\n",
    "n = range(len(rnd_str))\n",
    "encrypt_key = [random.randint(0, 65535) for i in n] # генерация ключа\n",
    "print(\"Сгенерированный ключ:\", encrypt_key)\n",
    "encryption_txt = VernamCipherFunction(rnd_str, encrypt_key);\n",
    "print (\"Зашифрованный текст:\" + encryption_txt);\n",
    "decryption_txt = VernamCipherFunction(encryption_txt, encrypt_key);\n",
    "print (\"Расшифрованный текст:\" + decryption_txt);"
   ]
  },
  {
   "cell_type": "code",
   "execution_count": 19,
   "id": "05de3dc8",
   "metadata": {},
   "outputs": [
    {
     "name": "stdout",
     "output_type": "stream",
     "text": [
      "Рассчитанный ключ: [31223, 3258, 36208, 49756, 24275, 6840, 27953, 49691, 5608, 25109, 6542, 9012, 15795, 6218, 1655, 2135, 11180, 23212, 41289, 10979, 34593, 10218, 47438, 11676, 7553, 31581, 43733, 13801, 3424, 34460, 11428, 19696, 10120, 22384, 39657, 33152, 33148, 19715, 37436, 43912, 20637, 6012, 38280, 14998, 19469, 13147, 3740, 36849, 19846, 36705, 10166, 27955, 37815, 21551, 43661]\n",
      "Время рассчета ключа в секундах: 0.0\n"
     ]
    }
   ],
   "source": [
    "key = []\n",
    "start = time.time() # время начала отсчета\n",
    "for i, ch in enumerate(rnd_str):\n",
    "    k = ord(ch) ^ ord(encryption_txt[i])\n",
    "    key.append(k)\n",
    "end = time.time() # время конца отсчета\n",
    "print(\"Рассчитанный ключ:\", key)\n",
    "print(\"Время рассчета ключа в секундах:\", end-start)"
   ]
  },
  {
   "cell_type": "markdown",
   "id": "ecd9ce56",
   "metadata": {},
   "source": [
    "| Длина текста | Время, занятое на шифрование, сек. | Время, занятое на расшифровку, сек | Время, занятое на расчет ключа, сек |\n",
    "|:------------:|:----------------------------------:|:----------------------------------:|:-----------------------------------:|\n",
    "|      55      |           2.3841858*10^-5          |           2.4080276*10^-5          |           9.1552734*10^-05          |\n",
    "|      138     |           5.5313110*10^-5          |           5.2213668*10^-5          |              0.00019645             |\n",
    "|     1100     |             0.00045394             |             0.00047421             |              0.00103068             |\n",
    "|     5070     |             0.00115085             |             0.00114965             |              0.00329184             |\n",
    "|     10050    |             0.00348616             |             0.00345874             |              0.01024079             |"
   ]
  },
  {
   "cell_type": "markdown",
   "id": "45ea2141",
   "metadata": {},
   "source": [
    "**Задача 6*.** Передача двух сообщений с использованием одного ключа.\n",
    "\n",
    "Предполагая, что было передано два зашифрованных сообщения C1 и C2 одинаковой длины с одним и тем же ключом K, и используя формулу  M1 ⊕ M2 = C1 ⊕ C2 (выводится из M1 ⊕ K ⊕ M2 ⊕ K = C1 ⊕ C2), попытаться расшифровать первые несколько символов ваших двух сообщений, зашифрованных одним ключом. \n"
   ]
  },
  {
   "cell_type": "code",
   "execution_count": 24,
   "id": "89cc9c53",
   "metadata": {},
   "outputs": [
    {
     "name": "stdout",
     "output_type": "stream",
     "text": [
      "m1: J-5%!(5CGt=v=ggajR]\" длинной 20\n",
      "m2: 6a*'^N[^m&Ef`v&,&7+l длинной 20\n",
      "c1: \u0001{nbfIvgf6\u0002<fR8RHv\u001bi\n",
      "c2: }7q`\u0019/\u0018zLdz,;Cy\u001f\u0004\u0013m'\n"
     ]
    }
   ],
   "source": [
    "# Задание 6\n",
    "\n",
    "# генерируем два исходных сообщения одной длины состоящих из одного набора символов:\n",
    "# строчных и прописных латинских букв, цифр и ASCII символов, которые считаются знаками препинания\n",
    "str_m1 = generate_random_string(20)\n",
    "print(\"m1:\", str_m1, \"длинной\", len(str_m1))\n",
    "str_m2 = generate_random_string(20)\n",
    "print(\"m2:\", str_m2, \"длинной\", len(str_m2))\n",
    "n = range(len(str_m1))\n",
    "encrypt_key = [random.randint(32, 100) for i in n] # генерация ключа\n",
    "encrypt_c1 = VernamCipherFunction(str_m1, encrypt_key);\n",
    "print(\"c1:\", encrypt_c1)\n",
    "encrypt_c2 = VernamCipherFunction(str_m2, encrypt_key);\n",
    "print(\"c2:\", encrypt_c2)"
   ]
  },
  {
   "cell_type": "code",
   "execution_count": 25,
   "id": "cf38e02a",
   "metadata": {},
   "outputs": [],
   "source": [
    "# Расшифровка двух зашифрованных одним ключом сообщений\n",
    "def VernamCipherDecryption (c1, c2):\n",
    "      nums = []\n",
    "      for i, ch in enumerate(c1):\n",
    "          nums.append(ord(ch) ^ ord(c2[i])) # операция исключающего ИЛИ для зашифрованных сообщений c1 и c2\n",
    "      #print(\"nums:\", nums)\n",
    "      q = -1\n",
    "      while q < len(nums)-1:\n",
    "        result_m1 = \"\"\n",
    "        result_m2 = \"\"\n",
    "        q += 1\n",
    "        print(\"Возможные символы для\", q, \"индекса:\")\n",
    "        for i in range(32, 127): # перебираем числовые коды от 32 до 126 включительно в таблице ASCII\n",
    "          for j in range(32, 127):\n",
    "            if i ^ j == nums[q]: \n",
    "              #print(\"i\", i)\n",
    "              #print(\"j\", j)\n",
    "              result_m1 += chr(i)\n",
    "              result_m2 += chr(j)\n",
    "        print (\"m1[\", q, \"]:\", result_m1)\n",
    "        print (\"m2[\", q, \"]:\", result_m2)"
   ]
  },
  {
   "cell_type": "code",
   "execution_count": 26,
   "id": "b918eb81",
   "metadata": {},
   "outputs": [
    {
     "name": "stdout",
     "output_type": "stream",
     "text": [
      "Возможные символы для 0 индекса:\n",
      "m1[ 0 ]:  !\"#$%&'()*+,-./0123456789:;<=>?@ABCDEFGHIJKLMNOPQRSTUVWXYZ[\\]^_\n",
      "m2[ 0 ]: \\]^_XYZ[TUVWPQRSLMNOHIJKDEFG@ABC<=>?89:;45670123,-./()*+$%&' !\"#\n",
      "Возможные символы для 1 индекса:\n",
      "m1[ 1 ]:  !\"#$%&'()*+,-./012456789:;<=>?`abcdefghijklmnopqrstuvwxyz{|}~\n",
      "m2[ 1 ]: lmnohijkdefg`abc|}~xyz{tuvwpqrs,-./()*+$%&' !\"#<=>?89:;4567012\n",
      "Возможные символы для 2 индекса:\n",
      "m1[ 2 ]:  !\"#$%&'()*+,-./0123456789:;<=>?@ABCDEFGHIJKLMNOPQRSTUVWXYZ[\\]^_abcdefghijklmnopqrstuvwxyz{|}~\n",
      "m2[ 2 ]: ?>=<;:9876543210/.-,+*)('&%$#\"! _^]\\[ZYXWVUTSRQPONMLKJIHGFEDCBA@~}|{zyxwvutsrqponmlkjihgfedcba\n",
      "Возможные символы для 3 индекса:\n",
      "m1[ 3 ]:  !\"#$%&'()*+,-./0123456789:;<=>?@ABCDEFGHIJKLMNOPQRSTUVWXYZ[\\]^_`abcdefghijklmnopqrstuvwxyz{|~\n",
      "m2[ 3 ]: \"# !&'$%*+()./,-23016745:;89>?<=BC@AFGDEJKHINOLMRSPQVWTUZ[XY^_\\]bc`afgdejkhinolmrspqvwtuz{xy~|\n",
      "Возможные символы для 4 индекса:\n",
      "m1[ 4 ]:  !\"#$%&'()*+,-./0123456789:;<=>?@ABCDEFGHIJKLMNOPQRSTUVWXYZ[\\]^_\n",
      "m2[ 4 ]: _^]\\[ZYXWVUTSRQPONMLKJIHGFEDCBA@?>=<;:9876543210/.-,+*)('&%$#\"! \n",
      "Возможные символы для 5 индекса:\n",
      "m1[ 5 ]:  !\"#$%&'()*+,-./0123456789:;<=>?@ABCDEFGHIJKLMNOPQRSTUVWXYZ[\\]^_\n",
      "m2[ 5 ]: FGDEBC@ANOLMJKHIVWTURSPQ^_\\]Z[XY&'$%\"# !./,-*+()67452301>?<=:;89\n",
      "Возможные символы для 6 индекса:\n",
      "m1[ 6 ]:  !\"#$%&'()*+,-./0123456789:;<=>?@ABCDEFGHIJKLMNOPQRSTUVWXYZ[\\]^_\n",
      "m2[ 6 ]: NOLMJKHIFGDEBC@A^_\\]Z[XYVWTURSPQ./,-*+()&'$%\"# !>?<=:;8967452301\n",
      "Возможные символы для 7 индекса:\n",
      "m1[ 7 ]:  !\"#$%&'()*+,-./0123456789:;<=>?@ABCDEFGHIJKLMNOPQRSTUVWXYZ[\\]^_`acdefghijklmnopqrstuvwxyz{|}~\n",
      "m2[ 7 ]: =<?>98;:54761032-,/.)(+*%$'&! #\"]\\_^YX[ZUTWVQPSRMLONIHKJEDGFA@CB}|~yx{zutwvqpsrmlonihkjedgfa`c\n",
      "Возможные символы для 8 индекса:\n",
      "m1[ 8 ]: @ABCDEFGHIJKLMNOPQRSTVWXYZ[\\]^_`abcdefghijklmnopqrstuvwxyz{|}~\n",
      "m2[ 8 ]: jkhinolmbc`afgdez{xy~|}rspqvwtuJKHINOLMBC@AFGDEZ[XY^_\\]RSPQVWT\n",
      "Возможные символы для 9 индекса:\n",
      "m1[ 9 ]:  !\"#$%&'()*+,./0123456789:;<=>?`abcdefghijklmnopqrstuvwxyz{|}~\n",
      "m2[ 9 ]: rspqvwtuz{xy~|}bc`afgdejkhinolm23016745:;89>?<=\"# !&'$%*+()./,\n",
      "Возможные символы для 10 индекса:\n",
      "m1[ 10 ]:  !\"#$%&'()*+,-./0123456789:;<=>?@ABCDEFGHIJKLMNOPQRSTUVWXYZ[\\]^_\n",
      "m2[ 10 ]: XYZ[\\]^_PQRSTUVWHIJKLMNO@ABCDEFG89:;<=>?01234567()*+,-./ !\"#$%&'\n",
      "Возможные символы для 11 индекса:\n",
      "m1[ 11 ]:  !\"#$%&'()*+,-./0123456789:;<=>?@ABCDEFGHIJKLMNOPQRSTUVWXYZ[\\]^_`abcdefghijklmnpqrstuvwxyz{|}~\n",
      "m2[ 11 ]: 0123456789:;<=>? !\"#$%&'()*+,-./PQRSTUVWXYZ[\\]^_@ABCDEFGHIJKLMNOpqrstuvwxyz{|}~`abcdefghijklmn\n",
      "Возможные символы для 12 индекса:\n",
      "m1[ 12 ]:  !#$%&'()*+,-./0123456789:;<=>?`abcdefghijklmnopqrstuvwxyz{|}~\n",
      "m2[ 12 ]: }|~yx{zutwvqpsrmlonihkjedgfa`cb=<?>98;:54761032-,/.)(+*%$'&! #\n",
      "Возможные символы для 13 индекса:\n",
      "m1[ 13 ]:  !\"#$%&'()*+,-./0123456789:;<=>?@ABCDEFGHIJKLMNOPQRSTUVWXYZ[\\]^_`abcdefghijklmopqrstuvwxyz{|}~\n",
      "m2[ 13 ]: 1032547698;:=<?>! #\"%$'&)(+*-,/.QPSRUTWVYX[Z]\\_^A@CBEDGFIHKJMLONqpsrutwvyx{z}|~a`cbedgfihkjmlo\n",
      "Возможные символы для 14 индекса:\n",
      "m1[ 14 ]:  !\"#$%&'()*+,-./0123456789:;<=?`abcdefghijklmnopqrstuvwxyz{|}~\n",
      "m2[ 14 ]: a`cbedgfihkjmlonqpsrutwvyx{z}|~! #\"%$'&)(+*-,/.1032547698;:=<?\n",
      "Возможные символы для 15 индекса:\n",
      "m1[ 15 ]:  !\"#$%&'()*+,-./013456789:;<=>?`abcdefghijklmnopqrstuvwxyz{|}~\n",
      "m2[ 15 ]: mlonihkjedgfa`cb}|~yx{zutwvqpsr-,/.)(+*%$'&! #\"=<?>98;:5476103\n",
      "Возможные символы для 16 индекса:\n",
      "m1[ 16 ]:  !\"#$%&'()*+,-./012456789:;<=>?`abcdefghijklmnopqrstuvwxyz{|}~\n",
      "m2[ 16 ]: lmnohijkdefg`abc|}~xyz{tuvwpqrs,-./()*+$%&' !\"#<=>?89:;4567012\n",
      "Возможные символы для 17 индекса:\n",
      "m1[ 17 ]:  !\"#$%&'()*+,-./0123456789:;<=>?@ABCDEFGHIJKLMNOPQRSTUVWXYZ[\\]^_\n",
      "m2[ 17 ]: EDGFA@CBMLONIHKJUTWVQPSR]\\_^YX[Z%$'&! #\"-,/.)(+*54761032=<?>98;:\n",
      "Возможные символы для 18 индекса:\n",
      "m1[ 18 ]:  !\"#$%&'()*+,-./0123456789:;<=>?@ABCDEFGHIJKLMNOPQRSTUVWXYZ[\\]^_\n",
      "m2[ 18 ]: VWTURSPQ^_\\]Z[XYFGDEBC@ANOLMJKHI67452301>?<=:;89&'$%\"# !./,-*+()\n",
      "Возможные символы для 19 индекса:\n",
      "m1[ 19 ]:  !\"#$%&'()*+,-./023456789:;<=>?`abcdefghijklmnopqrstuvwxyz{|}~\n",
      "m2[ 19 ]: nolmjkhifgdebc`a~|}z{xyvwturspq./,-*+()&'$%\"# !>?<=:;896745230\n"
     ]
    }
   ],
   "source": [
    "VernamCipherDecryption(encrypt_c1, encrypt_c2)"
   ]
  },
  {
   "cell_type": "markdown",
   "id": "e4b5313e",
   "metadata": {},
   "source": [
    "**Контрольные вопросы:**\n",
    "Даже при наличии вычислительных ресурсов и получении всех вариантов дешифрованного текста, как отличить правильный вариант от остальных?\n",
    "При выполнении лабораторной работы были исследованы уязвимости шифра Вернама, для абсолютной криптографической стойкости ключ должен обладать тремя важными свойствами и процедура шифрования должна удовлетворять всем требованиям. Если же попытаться два сообщения зашифровать одни ключом, то выполняется свойство M1 ⊕ M2 = C1 ⊕ C2. Если использовать эту уязвимость и при условии, что исходные сообщения состоят тотлько из определенного набора символов, все равно вариантов перебора для каждого символа в исходном сообщении достаточно много и отличить правильный вариант от остальных нет возможности, т.к. различные сочетания кодов для каждого бита M1 и M2 при выполнеии операции исключающего ИЛИ дают один и тот же результат как и при операции C1 ⊕ C2.\n"
   ]
  }
 ],
 "metadata": {
  "kernelspec": {
   "display_name": "Python 3 (ipykernel)",
   "language": "python",
   "name": "python3"
  },
  "language_info": {
   "codemirror_mode": {
    "name": "ipython",
    "version": 3
   },
   "file_extension": ".py",
   "mimetype": "text/x-python",
   "name": "python",
   "nbconvert_exporter": "python",
   "pygments_lexer": "ipython3",
   "version": "3.9.13"
  }
 },
 "nbformat": 4,
 "nbformat_minor": 5
}
